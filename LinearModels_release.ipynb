{
  "nbformat": 4,
  "nbformat_minor": 0,
  "metadata": {
    "colab": {
      "name": "LinearModels_release.ipynb",
      "provenance": [],
      "collapsed_sections": [],
      "include_colab_link": true
    },
    "kernelspec": {
      "name": "python3",
      "display_name": "Python 3"
    },
    "language_info": {
      "name": "python"
    }
  },
  "cells": [
    {
      "cell_type": "markdown",
      "metadata": {
        "id": "view-in-github",
        "colab_type": "text"
      },
      "source": [
        "<a href=\"https://colab.research.google.com/github/OceanZhang1988/CS4641/blob/main/LinearModels_release.ipynb\" target=\"_parent\"><img src=\"https://colab.research.google.com/assets/colab-badge.svg\" alt=\"Open In Colab\"/></a>"
      ]
    },
    {
      "cell_type": "code",
      "metadata": {
        "id": "c1xg8rS0qs8f"
      },
      "source": [
        "# Licensing Information:  You are free to use or extend this project for\n",
        "# educational purposes provided that (1) you do not distribute or publish\n",
        "# solutions, (2) you retain this notice, and (3) you provide clear\n",
        "# attribution to The Georgia Institute of Technology, including a link to https://aritter.github.io/CS-4641/\n",
        "\n",
        "# Attribution Information: This assignment was developed at The Georgia Institute of Technology\n",
        "# by Alan Ritter (alan.ritter@cc.gatech.edu)"
      ],
      "execution_count": null,
      "outputs": []
    },
    {
      "cell_type": "markdown",
      "metadata": {
        "id": "8ddQj71Mq4VH"
      },
      "source": [
        "#Project \\#2: Linear Models\n",
        "\n",
        "In this assignment you will train linear models using stochastic gradient descent to predict whether a human subject is viewing a picture or reading a sentence from their fMRI brain image data.\n",
        "\n",
        "NOTE: It may take some time to run the experiments for this assignment, so we recommend that you start early. We also recommend doing as much computation as possible using Numpy vector and matrix operations, this will be much faster than, for example writing loops to compute dot products in Python. You can find more details about Numpy [online](https://numpy.org/doc/stable/user/quickstart.html)."
      ]
    },
    {
      "cell_type": "markdown",
      "metadata": {
        "id": "phloXwttr05f"
      },
      "source": [
        "# Downloading the fMRI Data\n",
        "\n",
        "The data you will use for this assignment comes from the [starplus dataset](http://www.cs.cmu.edu/afs/cs.cmu.edu/project/theo-81/www/) (only the first subject). We provide starter code to read the provided matlab file into Python/Numpy arrays. The data for each trial consists of a sequence of brain images that we have flattened into a feature vector X. Your task is to train a linear classifier that outputs, $y \\in {+1,-1}$, which correspond to whether the subject was first shown a picture or a sentence during the trial. More details on the dataset are included in the comments of the starter code and in the [README file](http://www.cs.cmu.edu/afs/cs.cmu.edu/project/theo-81/www/README-data-documentation.txt)."
      ]
    },
    {
      "cell_type": "code",
      "metadata": {
        "colab": {
          "base_uri": "https://localhost:8080/"
        },
        "id": "0LtL42xXtdmd",
        "outputId": "6df277b8-a8bf-4258-8736-98c3e609a629"
      },
      "source": [
        "#Download the data\n",
        "!wget https://github.com/aritter/CS-4641/raw/main/data/data-starplus-04847-v7.mat"
      ],
      "execution_count": null,
      "outputs": [
        {
          "output_type": "stream",
          "name": "stdout",
          "text": [
            "--2021-10-11 00:49:49--  https://github.com/aritter/CS-4641/raw/main/data/data-starplus-04847-v7.mat\n",
            "Resolving github.com (github.com)... 140.82.113.4\n",
            "Connecting to github.com (github.com)|140.82.113.4|:443... connected.\n",
            "HTTP request sent, awaiting response... 302 Found\n",
            "Location: https://raw.githubusercontent.com/aritter/CS-4641/main/data/data-starplus-04847-v7.mat [following]\n",
            "--2021-10-11 00:49:50--  https://raw.githubusercontent.com/aritter/CS-4641/main/data/data-starplus-04847-v7.mat\n",
            "Resolving raw.githubusercontent.com (raw.githubusercontent.com)... 185.199.108.133, 185.199.109.133, 185.199.110.133, ...\n",
            "Connecting to raw.githubusercontent.com (raw.githubusercontent.com)|185.199.108.133|:443... connected.\n",
            "HTTP request sent, awaiting response... 200 OK\n",
            "Length: 102283661 (98M) [application/octet-stream]\n",
            "Saving to: ‘data-starplus-04847-v7.mat.1’\n",
            "\n",
            "data-starplus-04847 100%[===================>]  97.54M   220MB/s    in 0.4s    \n",
            "\n",
            "2021-10-11 00:49:50 (220 MB/s) - ‘data-starplus-04847-v7.mat.1’ saved [102283661/102283661]\n",
            "\n"
          ]
        }
      ]
    },
    {
      "cell_type": "markdown",
      "metadata": {
        "id": "hNS7F_Y_2If3"
      },
      "source": [
        "# Reading in the Dataset\n",
        "\n",
        "The code below reads in the Matlab (.mat) formatted file that was downloaded above, and extracts the raw fMRI data, in addition to metadata into appropriate Python data structures.  Your goal in this assignment will be to implement linear classifiers, and measure their accuracy at predicting whether the subject first viewed a picture ('P'), or sentence ('S'), from raw fMRI brain image data."
      ]
    },
    {
      "cell_type": "code",
      "metadata": {
        "id": "LFZevy8Vr61T"
      },
      "source": [
        "import scipy.io as sio\n",
        "import numpy as np\n",
        "\n",
        "import os\n",
        "\n",
        "starplus = sio.loadmat(\"data-starplus-04847-v7.mat\", verify_compressed_data_integrity=False)\n",
        "\n",
        "###########################################\n",
        "metadata = starplus['meta'][0,0]\n",
        "#meta.study gives the name of the fMRI study\n",
        "#meta.subject gives the identifier for the human subject\n",
        "#meta.ntrials gives the number of trials in this dataset\n",
        "#meta.nsnapshots gives the total number of images in the dataset\n",
        "#meta.nvoxels gives the number of voxels (3D pixels) in each image\n",
        "#meta.dimx gives the maximum x coordinate in the brain image. The minimum x coordinate is x=1. meta.dimy and meta.dimz give the same information for the y and z coordinates.\n",
        "#meta.colToCoord(v,:) gives the geometric coordinate (x,y,z) of the voxel corresponding to column v in the data\n",
        "#meta.coordToCol(x,y,z) gives the column index (within the data) of the voxel whose coordinate is (x,y,z)\n",
        "#meta.rois is a struct array defining a few dozen anatomically defined Regions Of Interest (ROIs) in the brain. Each element of the struct array defines on of the ROIs, and has three fields: \"name\" which gives the ROI name (e.g., 'LIFG'), \"coords\" which gives the xyz coordinates of each voxel in that ROI, and \"columns\" which gives the column index of each voxel in that ROI.\n",
        "#meta.colToROI{v} gives the ROI of the voxel corresponding to column v in the data.\n",
        "study      = metadata['study']\n",
        "subject    = metadata['subject']\n",
        "ntrials    = metadata['ntrials'][0][0]\n",
        "nsnapshots = metadata['nsnapshots'][0][0]\n",
        "dimx       = metadata['dimx'][0][0]\n",
        "colToCoord = metadata['colToCoord']\n",
        "coordToCol = metadata['coordToCol']\n",
        "rois       = metadata['rois']\n",
        "colToROI   = metadata['colToROI']\n",
        "###########################################\n",
        "\n",
        "###########################################\n",
        "info = starplus['info'][0]\n",
        "#info: This variable defines the experiment in terms of a sequence of 'trials'. 'info' is a 1x54 struct array, describing the 54 time intervals, or trials. Most of these time intervals correspond to trials during which the subject views a single picture and a single sentence, and presses a button to indicate whether the sentence correctly describes the picture. Other time intervals correspond to rest periods. The relevant fields of info are illustrated in the following example:\n",
        "#info(18) mint: 894 maxt: 948 cond: 2 firstStimulus: 'P' sentence: ''It is true that the star is below the plus.'' sentenceRel: 'below' sentenceSym1: 'star' sentenceSym2: 'plus' img: sap actionAnswer: 0 actionRT: 3613\n",
        "#info.mint gives the time of the first image in the interval (the minimum time)\n",
        "#info.maxt gives the time of the last image in the interval (the maximum time)\n",
        "#info.cond has possible values 0,1,2,3. Cond=0 indicates the data in this segment should be ignored. Cond=1 indicates the segment is a rest, or fixation interval. Cond=2 indicates the interval is a sentence/picture trial in which the sentence is not negated. Cond=3 indicates the interval is a sentence/picture trial in which the sentence is negated.\n",
        "#info.firstStimulus: is either 'P' or 'S' indicating whether this trail was obtained during the session is which Pictures were presented before sentences, or during the session in which Sentences were presented before pictures. The first 27 trials have firstStimulus='P', the remained have firstStimulus='S'. Note this value is present even for trials that are rest trials. You can pick out the trials for which sentences and pictures were presented by selecting just the trials trials with info.cond=2 or info.cond=3.\n",
        "#info.sentence gives the sentence presented during this trial. If none, the value is '' (the empty string). The fields info.sentenceSym1, info.sentenceSym2, and info.sentenceRel describe the two symbols mentioned in the sentence, and the relation between them.\n",
        "#info.img describes the image presented during this trial. For example, 'sap' means the image contained a 'star above plus'. Each image has two tokens, where one is above the other. The possible tokens are star (s), plus (p), and dollar (d).\n",
        "#info.actionAnswer: has values -1 or 0. A value of 0 indicates the subject is expected to press the answer button during this trial (either the 'yes' or 'no' button to indicate whether the sentence correctly describes the picture). A value of -1 indicates it is inappropriate for the subject to press the answer button during this trial (i.e., it is a rest, or fixation trial).\n",
        "#info.actionRT: gives the reaction time of the subject, measured as the time at which they pressed the answer button, minus the time at which the second stimulus was presented. Time is in milliseconds. If the subject did not press the button at all, the value is 0.\n",
        "###########################################\n",
        "\n",
        "###########################################\n",
        "data = starplus['data']\n",
        "#data: This variable contains the raw observed data. The fMRI data is a sequence of images collected over time, one image each 500 msec. The data structure 'data' is a [54x1] cell array, with one cell per 'trial' in the experiment. Each element in this cell array is an NxV array of observed fMRI activations. The element data{x}(t,v) gives the fMRI observation at voxel v, at time t within trial x. Here t is the within-trial time, ranging from 1 to info(x).len. The full image at time t within trial x is given by data{x}(t,:).\n",
        "#Note the absolute time for the first image within trial x is given by info(x).mint.\n",
        "###########################################"
      ],
      "execution_count": null,
      "outputs": []
    },
    {
      "cell_type": "markdown",
      "metadata": {
        "id": "byWqZ7AX-sDp"
      },
      "source": [
        "Below we create a matrix of features, $X$, and vector of labels, $Y$, which indicates whether the subject first viewed an image or a picture.\n"
      ]
    },
    {
      "cell_type": "code",
      "metadata": {
        "id": "9vmWRFhn3K7b"
      },
      "source": [
        "maxFeatures =  max([data[i][0].flatten().shape[0] for i in range(data.shape[0])])\n",
        "\n",
        "#Inputs\n",
        "X = np.zeros((ntrials, maxFeatures+1))\n",
        "for i in range(data.shape[0]):\n",
        "    f = data[i][0].flatten()\n",
        "    X[i,:f.shape[0]] = f\n",
        "    X[i,f.shape[0]]  = 1     #Bias\n",
        "\n",
        "#Outputs (+1 = Picture, -1 = Sentence)\n",
        "Y = np.ones(ntrials)\n",
        "Y[np.array([info[i]['firstStimulus'][0] != 'P' for i in range(ntrials)])] = -1"
      ],
      "execution_count": null,
      "outputs": []
    },
    {
      "cell_type": "markdown",
      "metadata": {
        "id": "E4bRoYe-3Pxb"
      },
      "source": [
        "#Logistic Regression (10 points)\n",
        "\n",
        "Recall the regularized logistic loss that we discussed in class (taken from Logistic Regression):\n",
        "\n",
        "![image.png](data:image/png;base64,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)"
      ]
    },
    {
      "cell_type": "markdown",
      "metadata": {
        "id": "5BSvUIrd5AvS"
      },
      "source": [
        "Your task is to implement stochastic gradient descent for the logistic loss by completing the associated sections in the starter code below.  \n",
        "\n",
        "First implement LogisticLoss.  This function should return the total loss for a dataset given a specific set of weights. This is useful for monitoring convergence during gradient descent.\n",
        "\n",
        "Next, fill in the missing part of the associated gradient descent routine (SgdLogistic)."
      ]
    },
    {
      "cell_type": "code",
      "metadata": {
        "id": "s6YszcyX3DYF"
      },
      "source": [
        "def LogisticLoss(X, Y, W, lmda):\n",
        "    #TODO: Compute (regularized) Logistic Loss\n",
        "    loss = 0\n",
        "    return loss\n",
        "\n",
        "def SgdLogistic(X, Y, maxIter, learningRate, lmda):\n",
        "    W = np.zeros(X.shape[1])\n",
        "    #TODO: implement stochastic gradient descent using the logistic loss function\n",
        "    return W\n",
        "\n",
        "def crossValidation(X, Y, SGD, lmda, learningRate, maxIter=20, sample=range(20)):\n",
        "    #Leave one out cross validation accuracy\n",
        "    nCorrect   = 0.\n",
        "    nIncorrect = 0.\n",
        "    \n",
        "    for i in sample:\n",
        "        print(\"CROSS VALIDATION %s\" % i)\n",
        "        \n",
        "        training_indices = [j for j in range(X.shape[0]) if j != i]\n",
        "        W = SGD(X[training_indices,], Y[training_indices,], maxIter=maxIter, lmda=lmda, learningRate=learningRate)\n",
        "        y_hat = np.sign(X[i,].dot(W))\n",
        "        if y_hat == 0.0:\n",
        "          y_hat = -1.0\n",
        "\n",
        "        if y_hat == Y[i]:\n",
        "            nCorrect += 1\n",
        "        else:\n",
        "            nIncorrect += 1\n",
        "\n",
        "    return nCorrect / (nCorrect + nIncorrect)"
      ],
      "execution_count": null,
      "outputs": []
    },
    {
      "cell_type": "markdown",
      "metadata": {
        "id": "6Bi-LjLD5VL0"
      },
      "source": [
        "#Parameter Tuning (6 Points)\n",
        "\n",
        "After implementing the loss and gradients you are now ready to train your models. \n",
        "\n",
        "Because time on an fMRI machine is expensive, there are only a relatively small number of trials available for each subject (only 54 examples of a person viewing a picture and reading a sentence).  To make the most of this small amount of data, we have provided you with code for hold-one-out cross validation.\n",
        "\n",
        "In hold-one-out cross validation, you can use all of your data for training (except one trial), and also compute the accuracy of your classifier on the entire dataset.  This works by training 54 different classifiers - each is trained on 53 training examples and tested on a single example.  Then you can calculate the accuracy of your classifier on the full dataset by comparing each held-out datapoint against the gold label in the data (whether the subject first viewed a picture or read a sentence).\n",
        "\n",
        "Tune the learning rate, $\\eta$, and regularization param- eters $\\lambda$ for each loss on the development set (the first 20 trials).  Try out several values, for example $\\eta \\in \\{0.1, 0.01, 0.001, 0.0001\\}$, and $\\lambda \\in \\{1, 0.3, 0.1\\}$.  Run SGD for a fixed number of iterations (e.g. 100) and print out the loss at the end of each iteration.  If your learning rate is set appropriately, the loss should be decreasing at every iteration."
      ]
    },
    {
      "cell_type": "code",
      "metadata": {
        "id": "3oBZ40vGL5Ol"
      },
      "source": [
        "#Randomly permute the data\n",
        "permutation = np.random.permutation(ntrials)\n",
        "permutation = np.random.permutation(X.shape[0])\n",
        "X = X[permutation,]\n",
        "Y = Y[permutation,]"
      ],
      "execution_count": null,
      "outputs": []
    },
    {
      "cell_type": "code",
      "metadata": {
        "colab": {
          "base_uri": "https://localhost:8080/"
        },
        "id": "BEDR8IlSx8iS",
        "outputId": "058f8b98-c266-46af-acd1-481fe24b6a1e"
      },
      "source": [
        "#TODO: tune lambda and learning rate\n",
        "LMDA=0\n",
        "LEARNING_RATE=0\n",
        "\n",
        "#Cross validation\n",
        "#Development\n",
        "print(\"Accuracy (Logistic Loss):\\t%s\" % crossValidation(X, Y, SgdLogistic, maxIter=20, lmda=LMDA, learningRate=LEARNING_RATE, sample=range(20)))\n",
        "    "
      ],
      "execution_count": null,
      "outputs": [
        {
          "output_type": "stream",
          "name": "stdout",
          "text": [
            "CROSS VALIDATION 0\n",
            "CROSS VALIDATION 1\n",
            "CROSS VALIDATION 2\n",
            "CROSS VALIDATION 3\n",
            "CROSS VALIDATION 4\n",
            "CROSS VALIDATION 5\n",
            "CROSS VALIDATION 6\n",
            "CROSS VALIDATION 7\n",
            "CROSS VALIDATION 8\n",
            "CROSS VALIDATION 9\n",
            "CROSS VALIDATION 10\n",
            "CROSS VALIDATION 11\n",
            "CROSS VALIDATION 12\n",
            "CROSS VALIDATION 13\n",
            "CROSS VALIDATION 14\n",
            "CROSS VALIDATION 15\n",
            "CROSS VALIDATION 16\n",
            "CROSS VALIDATION 17\n",
            "CROSS VALIDATION 18\n",
            "CROSS VALIDATION 19\n",
            "Accuracy (Logistic Loss):\t0.5\n"
          ]
        }
      ]
    },
    {
      "cell_type": "markdown",
      "metadata": {
        "id": "SruKNSoZFQcq"
      },
      "source": [
        "# Test data\n",
        "\n",
        "Now that you have tuned the parameters of your model on the development data, use the same hyperparameters to estimate performance on the test data (trials 20 through 54):"
      ]
    },
    {
      "cell_type": "code",
      "metadata": {
        "colab": {
          "base_uri": "https://localhost:8080/"
        },
        "id": "uIK57CxAFeHJ",
        "outputId": "50fe37c6-e1b2-492e-8bfd-c66400219ca8"
      },
      "source": [
        "#Test\n",
        "print(\"Accuracy (Logistic Loss):\\t%s\" % crossValidation(X, Y, SgdLogistic, maxIter=20, lmda=LMDA, learningRate=LEARNING_RATE, sample=range(20,X.shape[0])))"
      ],
      "execution_count": null,
      "outputs": [
        {
          "output_type": "stream",
          "name": "stdout",
          "text": [
            "CROSS VALIDATION 20\n",
            "CROSS VALIDATION 21\n",
            "CROSS VALIDATION 22\n",
            "CROSS VALIDATION 23\n",
            "CROSS VALIDATION 24\n",
            "CROSS VALIDATION 25\n",
            "CROSS VALIDATION 26\n",
            "CROSS VALIDATION 27\n",
            "CROSS VALIDATION 28\n",
            "CROSS VALIDATION 29\n",
            "CROSS VALIDATION 30\n",
            "CROSS VALIDATION 31\n",
            "CROSS VALIDATION 32\n",
            "CROSS VALIDATION 33\n",
            "CROSS VALIDATION 34\n",
            "CROSS VALIDATION 35\n",
            "CROSS VALIDATION 36\n",
            "CROSS VALIDATION 37\n",
            "CROSS VALIDATION 38\n",
            "CROSS VALIDATION 39\n",
            "CROSS VALIDATION 40\n",
            "CROSS VALIDATION 41\n",
            "CROSS VALIDATION 42\n",
            "CROSS VALIDATION 43\n",
            "CROSS VALIDATION 44\n",
            "CROSS VALIDATION 45\n",
            "CROSS VALIDATION 46\n",
            "CROSS VALIDATION 47\n",
            "CROSS VALIDATION 48\n",
            "CROSS VALIDATION 49\n",
            "CROSS VALIDATION 50\n",
            "CROSS VALIDATION 51\n",
            "CROSS VALIDATION 52\n",
            "CROSS VALIDATION 53\n",
            "Accuracy (Logistic Loss):\t0.5\n"
          ]
        }
      ]
    },
    {
      "cell_type": "markdown",
      "metadata": {
        "id": "5AMSnDIe44cj"
      },
      "source": [
        "# Hinge Loss (10 points)\n",
        "\n",
        "Now do the same thing you did above for the Hinge-Loss from linear soft-margin SVMs:\n",
        "\n",
        "![image.png](data:image/png;base64,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)"
      ]
    },
    {
      "cell_type": "code",
      "metadata": {
        "id": "DB8eqfB1zhlH"
      },
      "source": [
        "def HingeLoss(X, Y, W, lmda):\n",
        "    #TODO: Compute (regularized) Hinge Loss\n",
        "    loss = 0\n",
        "    return loss\n",
        "\n",
        "def SgdHinge(X, Y, maxIter, learningRate=0.0001, lmda=10.):\n",
        "    W = np.zeros(X.shape[1])\n",
        "    #TODO: implement stochastic (sub) gradient descent with the hinge loss function\n",
        "    return W"
      ],
      "execution_count": null,
      "outputs": []
    },
    {
      "cell_type": "markdown",
      "metadata": {
        "id": "tQ0GE-71F_mY"
      },
      "source": [
        "#Hyperparameter tuning (5 points)\n",
        "\n",
        "Tune the hyperparameters on the development set."
      ]
    },
    {
      "cell_type": "code",
      "metadata": {
        "id": "oinbCRys1-DO",
        "colab": {
          "base_uri": "https://localhost:8080/"
        },
        "outputId": "7fb8e8ed-ddcb-4ff9-b8e8-ee6449b94fa3"
      },
      "source": [
        "#TODO: tune lambda and learning rate\n",
        "LMDA=0\n",
        "LEARNING_RATE=0\n",
        "\n",
        "#Development\n",
        "print(\"Accuracy (Hinge Loss):\\t%s\" % crossValidation(X, Y, SgdHinge, maxIter=20, lmda=LMDA, learningRate=LEARNING_RATE, sample=range(20)))"
      ],
      "execution_count": null,
      "outputs": [
        {
          "output_type": "stream",
          "name": "stdout",
          "text": [
            "CROSS VALIDATION 0\n",
            "CROSS VALIDATION 1\n",
            "CROSS VALIDATION 2\n",
            "CROSS VALIDATION 3\n",
            "CROSS VALIDATION 4\n",
            "CROSS VALIDATION 5\n",
            "CROSS VALIDATION 6\n",
            "CROSS VALIDATION 7\n",
            "CROSS VALIDATION 8\n",
            "CROSS VALIDATION 9\n",
            "CROSS VALIDATION 10\n",
            "CROSS VALIDATION 11\n",
            "CROSS VALIDATION 12\n",
            "CROSS VALIDATION 13\n",
            "CROSS VALIDATION 14\n",
            "CROSS VALIDATION 15\n",
            "CROSS VALIDATION 16\n",
            "CROSS VALIDATION 17\n",
            "CROSS VALIDATION 18\n",
            "CROSS VALIDATION 19\n",
            "Accuracy (Hinge Loss):\t0.5\n"
          ]
        }
      ]
    },
    {
      "cell_type": "markdown",
      "metadata": {
        "id": "jWg29uaIGJ3x"
      },
      "source": [
        "# Test set results\n",
        "\n",
        "Report results on the test set (trials 20 through 53)"
      ]
    },
    {
      "cell_type": "code",
      "metadata": {
        "colab": {
          "base_uri": "https://localhost:8080/"
        },
        "id": "xCoUMvAVGP0r",
        "outputId": "0e8618b3-d26f-47b0-dabe-6bf5f8e98f3c"
      },
      "source": [
        "#Test\n",
        "print(\"Accuracy (Hinge Loss):\\t%s\" % crossValidation(X, Y, SgdHinge, maxIter=20, lmda=LMDA, learningRate=LEARNING_RATE, sample=range(20,X.shape[0])))"
      ],
      "execution_count": null,
      "outputs": [
        {
          "output_type": "stream",
          "name": "stdout",
          "text": [
            "CROSS VALIDATION 20\n",
            "CROSS VALIDATION 21\n",
            "CROSS VALIDATION 22\n",
            "CROSS VALIDATION 23\n",
            "CROSS VALIDATION 24\n",
            "CROSS VALIDATION 25\n",
            "CROSS VALIDATION 26\n",
            "CROSS VALIDATION 27\n",
            "CROSS VALIDATION 28\n",
            "CROSS VALIDATION 29\n",
            "CROSS VALIDATION 30\n",
            "CROSS VALIDATION 31\n",
            "CROSS VALIDATION 32\n",
            "CROSS VALIDATION 33\n",
            "CROSS VALIDATION 34\n",
            "CROSS VALIDATION 35\n",
            "CROSS VALIDATION 36\n",
            "CROSS VALIDATION 37\n",
            "CROSS VALIDATION 38\n",
            "CROSS VALIDATION 39\n",
            "CROSS VALIDATION 40\n",
            "CROSS VALIDATION 41\n",
            "CROSS VALIDATION 42\n",
            "CROSS VALIDATION 43\n",
            "CROSS VALIDATION 44\n",
            "CROSS VALIDATION 45\n",
            "CROSS VALIDATION 46\n",
            "CROSS VALIDATION 47\n",
            "CROSS VALIDATION 48\n",
            "CROSS VALIDATION 49\n",
            "CROSS VALIDATION 50\n",
            "CROSS VALIDATION 51\n",
            "CROSS VALIDATION 52\n",
            "CROSS VALIDATION 53\n",
            "Accuracy (Hinge Loss):\t0.5\n"
          ]
        }
      ]
    },
    {
      "cell_type": "markdown",
      "metadata": {
        "id": "hePWHggoGYh-"
      },
      "source": [
        "## Submission\n",
        "\n",
        "Please submit this notebook along with the cell outputs on Gradescope:\n",
        "* LinearModels_Release.ipynb\n",
        "\n",
        "To download this notebook, go to `File > Download.ipynb`.\n",
        "\n",
        "When submitting the .ipynb notebook, please make sure that all the cells run when executed in order starting from a fresh session. If the code doesn't take too long to run, you can re-run everything with `Runtime -> Restart and run all`\n",
        "\n",
        "You can submit multiple times before the deadline and choose the submission which you want to be graded by going to `Submission History` on gradescope.\n",
        "\n"
      ]
    },
    {
      "cell_type": "code",
      "metadata": {
        "id": "DaZ87pJS1Byz"
      },
      "source": [
        ""
      ],
      "execution_count": null,
      "outputs": []
    }
  ]
}